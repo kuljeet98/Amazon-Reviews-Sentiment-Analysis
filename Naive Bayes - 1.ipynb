{
 "cells": [
  {
   "cell_type": "code",
   "execution_count": 1,
   "metadata": {},
   "outputs": [],
   "source": [
    "import pandas as pd\n",
    "import numpy as np\n",
    "import seaborn as sns\n",
    "import matplotlib.pyplot as plt\n",
    "import numpy as np\n",
    "import nltk\n",
    "%matplotlib inline\n",
    "\n",
    "from sklearn.model_selection import train_test_split\n",
    "from sklearn.feature_extraction.text import CountVectorizer\n",
    "from sklearn.feature_extraction.text import TfidfVectorizer\n",
    "\n",
    "from sklearn.metrics import f1_score, make_scorer, precision_score, recall_score\n",
    "\n",
    "from sklearn.metrics import accuracy_score\n",
    "from sklearn.model_selection import cross_val_score\n",
    "from sklearn.metrics import confusion_matrix\n",
    "from sklearn.naive_bayes import MultinomialNB\n",
    "from sklearn.naive_bayes import BernoulliNB\n",
    "\n",
    "from prettytable import PrettyTable"
   ]
  },
  {
   "cell_type": "code",
   "execution_count": null,
   "metadata": {},
   "outputs": [],
   "source": []
  },
  {
   "cell_type": "code",
   "execution_count": 2,
   "metadata": {},
   "outputs": [],
   "source": [
    "# Reading pre-processed dataset\n",
    "data = pd.read_csv('final_data.csv')\n",
    "data.dropna(inplace=True)"
   ]
  },
  {
   "cell_type": "code",
   "execution_count": 3,
   "metadata": {},
   "outputs": [
    {
     "data": {
      "text/plain": [
       "(364156, 11)"
      ]
     },
     "execution_count": 3,
     "metadata": {},
     "output_type": "execute_result"
    }
   ],
   "source": [
    "data.shape"
   ]
  },
  {
   "cell_type": "code",
   "execution_count": 4,
   "metadata": {},
   "outputs": [],
   "source": [
    "data.sort_values(by='Time',ascending=True, inplace=True)"
   ]
  },
  {
   "cell_type": "code",
   "execution_count": 5,
   "metadata": {},
   "outputs": [],
   "source": [
    "data.reset_index(drop=True, inplace=True)"
   ]
  },
  {
   "cell_type": "code",
   "execution_count": 6,
   "metadata": {},
   "outputs": [
    {
     "data": {
      "text/plain": [
       "(364156, 11)"
      ]
     },
     "execution_count": 6,
     "metadata": {},
     "output_type": "execute_result"
    }
   ],
   "source": [
    "sampled_data = data.loc[:]\n",
    "sampled_data.shape"
   ]
  },
  {
   "cell_type": "code",
   "execution_count": 7,
   "metadata": {},
   "outputs": [],
   "source": [
    "sampled_data['Score'].replace('positive','1',inplace=True)\n",
    "sampled_data['Score'].replace('negative','0', inplace=True)"
   ]
  },
  {
   "cell_type": "code",
   "execution_count": 8,
   "metadata": {},
   "outputs": [
    {
     "data": {
      "text/plain": [
       "1    307051\n",
       "0     57105\n",
       "Name: Score, dtype: int64"
      ]
     },
     "execution_count": 8,
     "metadata": {},
     "output_type": "execute_result"
    }
   ],
   "source": [
    "sampled_data['Score'].value_counts()"
   ]
  },
  {
   "cell_type": "code",
   "execution_count": 9,
   "metadata": {},
   "outputs": [],
   "source": [
    "X = sampled_data['CleanedText']\n",
    "y = sampled_data['Score']"
   ]
  },
  {
   "cell_type": "code",
   "execution_count": 10,
   "metadata": {},
   "outputs": [],
   "source": [
    "# Splitting into (70:30) : ( Train+CV : Test) \n",
    "X_train = X[:250000]\n",
    "y_train = y[:250000]\n",
    "X_test = X[250000:]\n",
    "y_test = y[250000:]"
   ]
  },
  {
   "cell_type": "code",
   "execution_count": null,
   "metadata": {},
   "outputs": [],
   "source": []
  },
  {
   "cell_type": "code",
   "execution_count": 93,
   "metadata": {},
   "outputs": [],
   "source": [
    "# This function is for hyper parameter (alpha) tuning which uses F1 score for 5-fold Cross Validation and returns the optimum values\n",
    "def apply_NB(X_train, y_train):\n",
    "    \"\"\"accepts X_train, y_train and returns optimum alpha\"\"\"\n",
    "    alpha_list = [0.00001, 0.0001, 0.001, 0.01, 0.1, 1, 10, 100]\n",
    "    \n",
    "    cv_scores=[]\n",
    "    for alpha in alpha_list:\n",
    "        scores = cross_val_score(MultinomialNB(alpha=alpha), X_train, y_train, scoring= make_scorer(f1_score, average='weighted'), cv=5)\n",
    "        cv_scores.append(scores.mean())\n",
    "        print(\"ALPHA : %f , Score : %f\" % (alpha,scores.mean()))\n",
    "    \n",
    "    op_index = cv_scores.index(max(cv_scores))\n",
    "    op_alpha = alpha_list[op_index]\n",
    "    print(\"Optimum Alpha\",op_alpha)\n",
    "    print(plt.plot(alpha_list,cv_scores,marker='o',linestyle=\"dashed\"))\n",
    "    return op_alpha\n",
    "\n",
    "\n",
    "def optimal_NB(X_train, X_test, y_train, op_alpha, count_vect):\n",
    "    \"\"\"returns prediction list and the optimal Naive Bayes model trained by using the optimal alpha value\"\"\"\n",
    "    op_NB = MultinomialNB(alpha=op_alpha)\n",
    "    op_NB.fit(X_train,y_train)\n",
    "    pred = op_NB.predict(X_test)\n",
    "    \n",
    "    \n",
    "    neg_class_prob_sorted =op_NB.feature_log_prob_[0, :].argsort()\n",
    "    pos_class_prob_sorted =op_NB.feature_log_prob_[1, :].argsort()\n",
    "\n",
    "    print(\"Negative Class Top Features:\")\n",
    "    print(np.take(count_vect.get_feature_names(), neg_class_prob_sorted[-10:]))\n",
    "    print(\"*\"*20)\n",
    "    print(\"Positive Class Top Features:\")\n",
    "    print(np.take(count_vect.get_feature_names(), pos_class_prob_sorted[-10:]))\n",
    "    return pred,op_NB\n",
    "\n",
    "def gen_confusion_matrix(y_test,pred):\n",
    "    \"\"\"Prints the confusion matrix\"\"\"\n",
    "    print(sns.heatmap(confusion_matrix(y_test,pred),cmap=\"viridis\",fmt='g', annot=True))\n",
    "    \n",
    "def gen_scores(y_test, pred):\n",
    "    \"\"\"Displays confusion matrix, Precision, Recall, F1 scores and accuracy values in a summarized table format\"\"\"\n",
    "    gen_confusion_matrix(y_test,pred)\n",
    "    pre = np.round(precision_score(y_test,pred,average='weighted'),4)\n",
    "    recall = np.round(recall_score(y_test,pred,average='weighted'),4)\n",
    "    f1 = np.round(f1_score(y_test,pred,average='weighted'),4)\n",
    "    accuracy = np.round(accuracy_score(y_test,pred),4)\n",
    "    table = PrettyTable()\n",
    "    table.field_names = ['Precision Score', 'Recall Score', 'f1 Score', 'Accuracy']\n",
    "    table.add_row([pre,recall,f1,accuracy])\n",
    "    print(table)"
   ]
  },
  {
   "cell_type": "markdown",
   "metadata": {},
   "source": [
    "# BOW - Naive Bayes"
   ]
  },
  {
   "cell_type": "code",
   "execution_count": 13,
   "metadata": {},
   "outputs": [],
   "source": [
    "count_vect = CountVectorizer()"
   ]
  },
  {
   "cell_type": "code",
   "execution_count": 14,
   "metadata": {},
   "outputs": [
    {
     "data": {
      "text/plain": [
       "CountVectorizer(analyzer='word', binary=False, decode_error='strict',\n",
       "        dtype=<class 'numpy.int64'>, encoding='utf-8', input='content',\n",
       "        lowercase=True, max_df=1.0, max_features=None, min_df=1,\n",
       "        ngram_range=(1, 1), preprocessor=None, stop_words=None,\n",
       "        strip_accents=None, token_pattern='(?u)\\\\b\\\\w\\\\w+\\\\b',\n",
       "        tokenizer=None, vocabulary=None)"
      ]
     },
     "execution_count": 14,
     "metadata": {},
     "output_type": "execute_result"
    }
   ],
   "source": [
    "count_vect.fit(X_train.values)"
   ]
  },
  {
   "cell_type": "code",
   "execution_count": 15,
   "metadata": {},
   "outputs": [],
   "source": [
    "bow_train = count_vect.transform(X_train.values)"
   ]
  },
  {
   "cell_type": "code",
   "execution_count": 16,
   "metadata": {},
   "outputs": [],
   "source": [
    "bow_test = count_vect.transform(X_test.values)"
   ]
  },
  {
   "cell_type": "code",
   "execution_count": 17,
   "metadata": {},
   "outputs": [
    {
     "name": "stdout",
     "output_type": "stream",
     "text": [
      "(250000, 57510)\n",
      "(114156, 57510)\n",
      "(250000,)\n",
      "(114156,)\n"
     ]
    }
   ],
   "source": [
    "print(bow_train.shape)\n",
    "print(bow_test.shape)\n",
    "print(y_train.shape)\n",
    "print(y_test.shape)"
   ]
  },
  {
   "cell_type": "markdown",
   "metadata": {},
   "source": [
    "Some Testing"
   ]
  },
  {
   "cell_type": "code",
   "execution_count": 99,
   "metadata": {},
   "outputs": [],
   "source": [
    "#test_model = MultinomialNB()\n",
    "#test_model.fit(bow_train,y_train)\n",
    "#pred, clf = optimal_NB(bow_train, bow_test,y_train, 1,count_vect)\n",
    "#f1_score(y_test,pred,average='weighted')"
   ]
  },
  {
   "cell_type": "code",
   "execution_count": 100,
   "metadata": {},
   "outputs": [],
   "source": [
    "#len(count_vect.get_feature_names())"
   ]
  },
  {
   "cell_type": "code",
   "execution_count": 101,
   "metadata": {},
   "outputs": [],
   "source": [
    "#neg_indices = clf.feature_log_prob_[0].argsort()\n",
    "#print(len(neg_indices[0:10]))\n",
    "#print((clf.feature_log_prob_[0][neg_indices[0:10]]))\n",
    "#count = 0\n",
    "#for i in range(len(clf.feature_log_prob_[0])):\n",
    "    #if clf.feature_log_prob_[0][i] == -14.270384686329981:\n",
    "        #count += 1\n",
    "#print(count)\n",
    "#pos_indices = clf.feature_log_prob_[1].argsort()\n",
    "        \n"
   ]
  },
  {
   "cell_type": "code",
   "execution_count": 102,
   "metadata": {},
   "outputs": [],
   "source": [
    "#print(neg_indices[-10:])\n",
    "#print(clf.feature_log_prob_[0][neg_indices[-10:]])\n",
    "#print(np.take(count_vect.get_feature_names(),neg_indices[-10:]))\n",
    "#print(clf.feature_log_prob_[1][pos_indices[-10:]])\n",
    "#print(np.take(count_vect.get_feature_names(),pos_indices[-10:]))"
   ]
  },
  {
   "cell_type": "code",
   "execution_count": 103,
   "metadata": {},
   "outputs": [
    {
     "name": "stdout",
     "output_type": "stream",
     "text": [
      "ALPHA : 0.000010 , Score : 0.893275\n",
      "ALPHA : 0.000100 , Score : 0.894516\n",
      "ALPHA : 0.001000 , Score : 0.895840\n",
      "ALPHA : 0.010000 , Score : 0.897617\n",
      "ALPHA : 0.100000 , Score : 0.899272\n",
      "ALPHA : 1.000000 , Score : 0.901534\n",
      "ALPHA : 10.000000 , Score : 0.841906\n",
      "ALPHA : 100.000000 , Score : 0.782689\n",
      "Optimum Alpha 1\n",
      "[<matplotlib.lines.Line2D object at 0x000002421EEBE630>]\n"
     ]
    },
    {
     "data": {
      "image/png": "[encoded data removed]",
      "text/plain": [
       "<Figure size 432x288 with 1 Axes>"
      ]
     },
     "metadata": {
      "needs_background": "light"
     },
     "output_type": "display_data"
    }
   ],
   "source": [
    "bow_op_alpha = apply_NB(bow_train,y_train)"
   ]
  },
  {
   "cell_type": "code",
   "execution_count": 104,
   "metadata": {},
   "outputs": [
    {
     "name": "stdout",
     "output_type": "stream",
     "text": [
      "+-------------------------+--------------+------------------------+\n",
      "|        Algorithm        |  Technique   | Hyperparameter - alpha |\n",
      "+-------------------------+--------------+------------------------+\n",
      "| Multinomial Naive Bayes | Bag Of Words |           1            |\n",
      "+-------------------------+--------------+------------------------+\n"
     ]
    }
   ],
   "source": [
    "table=PrettyTable()\n",
    "table.field_names = ['Algorithm', 'Technique', 'Hyperparameter - alpha']\n",
    "table.add_row(['Multinomial Naive Bayes', 'Bag Of Words', '1'])\n",
    "print(table)"
   ]
  },
  {
   "cell_type": "code",
   "execution_count": 107,
   "metadata": {},
   "outputs": [
    {
     "name": "stdout",
     "output_type": "stream",
     "text": [
      "Negative Class Top Features:\n",
      "['coffe' 'good' 'tri' 'would' 'flavor' 'one' 'product' 'like' 'tast' 'not']\n",
      "********************\n",
      "Positive Class Top Features:\n",
      "['product' 'one' 'use' 'great' 'love' 'flavor' 'good' 'tast' 'like' 'not']\n"
     ]
    }
   ],
   "source": [
    "pred,op_NB = optimal_NB(bow_train,bow_test, y_train, bow_op_alpha, count_vect)"
   ]
  },
  {
   "cell_type": "code",
   "execution_count": 108,
   "metadata": {},
   "outputs": [
    {
     "name": "stdout",
     "output_type": "stream",
     "text": [
      "AxesSubplot(0.125,0.125;0.62x0.755)\n",
      "+-----------------+--------------+----------+----------+\n",
      "| Precision Score | Recall Score | f1 Score | Accuracy |\n",
      "+-----------------+--------------+----------+----------+\n",
      "|      0.8961     |    0.8969    |  0.8965  |  0.8969  |\n",
      "+-----------------+--------------+----------+----------+\n"
     ]
    },
    {
     "data": {
      "image/png": "[encoded data removed]",
      "text/plain": [
       "<Figure size 432x288 with 2 Axes>"
      ]
     },
     "metadata": {
      "needs_background": "light"
     },
     "output_type": "display_data"
    }
   ],
   "source": [
    "gen_scores(y_test,pred)"
   ]
  },
  {
   "cell_type": "code",
   "execution_count": null,
   "metadata": {},
   "outputs": [],
   "source": []
  },
  {
   "cell_type": "code",
   "execution_count": null,
   "metadata": {},
   "outputs": [],
   "source": []
  },
  {
   "cell_type": "markdown",
   "metadata": {},
   "source": [
    "# TF_IDF - Naive Bayes"
   ]
  },
  {
   "cell_type": "code",
   "execution_count": 109,
   "metadata": {},
   "outputs": [],
   "source": [
    "tfidf_vect = TfidfVectorizer(ngram_range=(1,2))"
   ]
  },
  {
   "cell_type": "code",
   "execution_count": 110,
   "metadata": {},
   "outputs": [
    {
     "data": {
      "text/plain": [
       "TfidfVectorizer(analyzer='word', binary=False, decode_error='strict',\n",
       "        dtype=<class 'numpy.float64'>, encoding='utf-8', input='content',\n",
       "        lowercase=True, max_df=1.0, max_features=None, min_df=1,\n",
       "        ngram_range=(1, 2), norm='l2', preprocessor=None, smooth_idf=True,\n",
       "        stop_words=None, strip_accents=None, sublinear_tf=False,\n",
       "        token_pattern='(?u)\\\\b\\\\w\\\\w+\\\\b', tokenizer=None, use_idf=True,\n",
       "        vocabulary=None)"
      ]
     },
     "execution_count": 110,
     "metadata": {},
     "output_type": "execute_result"
    }
   ],
   "source": [
    "tfidf_vect.fit(X_train.values)"
   ]
  },
  {
   "cell_type": "code",
   "execution_count": 111,
   "metadata": {},
   "outputs": [],
   "source": [
    "tfidf_train = tfidf_vect.transform(X_train.values)"
   ]
  },
  {
   "cell_type": "code",
   "execution_count": 112,
   "metadata": {},
   "outputs": [],
   "source": [
    "tfidf_test = tfidf_vect.transform(X_test.values)"
   ]
  },
  {
   "cell_type": "code",
   "execution_count": 113,
   "metadata": {},
   "outputs": [
    {
     "name": "stdout",
     "output_type": "stream",
     "text": [
      "(250000, 2231285)\n",
      "(114156, 2231285)\n",
      "(250000,)\n",
      "(114156,)\n"
     ]
    }
   ],
   "source": [
    "print(tfidf_train.shape)\n",
    "print(tfidf_test.shape)\n",
    "print(y_train.shape)\n",
    "print(y_test.shape)"
   ]
  },
  {
   "cell_type": "code",
   "execution_count": 114,
   "metadata": {},
   "outputs": [
    {
     "name": "stdout",
     "output_type": "stream",
     "text": [
      "ALPHA : 0.000010 , Score : 0.863587\n",
      "ALPHA : 0.000100 , Score : 0.877218\n",
      "ALPHA : 0.001000 , Score : 0.892601\n",
      "ALPHA : 0.010000 , Score : 0.896658\n",
      "ALPHA : 0.100000 , Score : 0.875091\n",
      "ALPHA : 1.000000 , Score : 0.782912\n"
     ]
    },
    {
     "name": "stderr",
     "output_type": "stream",
     "text": [
      "C:\\Users\\prabh\\Anaconda3\\lib\\site-packages\\sklearn\\metrics\\classification.py:1143: UndefinedMetricWarning: F-score is ill-defined and being set to 0.0 in labels with no predicted samples.\n",
      "  'precision', 'predicted', average, warn_for)\n",
      "C:\\Users\\prabh\\Anaconda3\\lib\\site-packages\\sklearn\\metrics\\classification.py:1143: UndefinedMetricWarning: F-score is ill-defined and being set to 0.0 in labels with no predicted samples.\n",
      "  'precision', 'predicted', average, warn_for)\n",
      "C:\\Users\\prabh\\Anaconda3\\lib\\site-packages\\sklearn\\metrics\\classification.py:1143: UndefinedMetricWarning: F-score is ill-defined and being set to 0.0 in labels with no predicted samples.\n",
      "  'precision', 'predicted', average, warn_for)\n",
      "C:\\Users\\prabh\\Anaconda3\\lib\\site-packages\\sklearn\\metrics\\classification.py:1143: UndefinedMetricWarning: F-score is ill-defined and being set to 0.0 in labels with no predicted samples.\n",
      "  'precision', 'predicted', average, warn_for)\n",
      "C:\\Users\\prabh\\Anaconda3\\lib\\site-packages\\sklearn\\metrics\\classification.py:1143: UndefinedMetricWarning: F-score is ill-defined and being set to 0.0 in labels with no predicted samples.\n",
      "  'precision', 'predicted', average, warn_for)\n"
     ]
    },
    {
     "name": "stdout",
     "output_type": "stream",
     "text": [
      "ALPHA : 10.000000 , Score : 0.782763\n"
     ]
    },
    {
     "name": "stderr",
     "output_type": "stream",
     "text": [
      "C:\\Users\\prabh\\Anaconda3\\lib\\site-packages\\sklearn\\metrics\\classification.py:1143: UndefinedMetricWarning: F-score is ill-defined and being set to 0.0 in labels with no predicted samples.\n",
      "  'precision', 'predicted', average, warn_for)\n",
      "C:\\Users\\prabh\\Anaconda3\\lib\\site-packages\\sklearn\\metrics\\classification.py:1143: UndefinedMetricWarning: F-score is ill-defined and being set to 0.0 in labels with no predicted samples.\n",
      "  'precision', 'predicted', average, warn_for)\n",
      "C:\\Users\\prabh\\Anaconda3\\lib\\site-packages\\sklearn\\metrics\\classification.py:1143: UndefinedMetricWarning: F-score is ill-defined and being set to 0.0 in labels with no predicted samples.\n",
      "  'precision', 'predicted', average, warn_for)\n",
      "C:\\Users\\prabh\\Anaconda3\\lib\\site-packages\\sklearn\\metrics\\classification.py:1143: UndefinedMetricWarning: F-score is ill-defined and being set to 0.0 in labels with no predicted samples.\n",
      "  'precision', 'predicted', average, warn_for)\n"
     ]
    },
    {
     "name": "stdout",
     "output_type": "stream",
     "text": [
      "ALPHA : 100.000000 , Score : 0.782763\n",
      "Optimum Alpha 0.01\n",
      "[<matplotlib.lines.Line2D object at 0x000002425338CA90>]\n"
     ]
    },
    {
     "name": "stderr",
     "output_type": "stream",
     "text": [
      "C:\\Users\\prabh\\Anaconda3\\lib\\site-packages\\sklearn\\metrics\\classification.py:1143: UndefinedMetricWarning: F-score is ill-defined and being set to 0.0 in labels with no predicted samples.\n",
      "  'precision', 'predicted', average, warn_for)\n"
     ]
    },
    {
     "data": {
      "image/png": "[encoded data removed]",
      "text/plain": [
       "<Figure size 432x288 with 1 Axes>"
      ]
     },
     "metadata": {
      "needs_background": "light"
     },
     "output_type": "display_data"
    }
   ],
   "source": [
    "tfidf_op_alpha = apply_NB(tfidf_train, y_train)"
   ]
  },
  {
   "cell_type": "markdown",
   "metadata": {},
   "source": [
    "It is important to note that the warnings appearing above are due to the fact that when alpha value is >= 10 the model predicts only '1' label and thus the value 0 is  being considered for the weighted average for the f1 score. A small test below provides the explanantion"
   ]
  },
  {
   "cell_type": "code",
   "execution_count": 116,
   "metadata": {},
   "outputs": [],
   "source": [
    "#test cell\n",
    "test_model = MultinomialNB(alpha=10)\n",
    "test_model.fit(tfidf_train, y_train)\n",
    "pred = test_model.predict(tfidf_test)"
   ]
  },
  {
   "cell_type": "code",
   "execution_count": 117,
   "metadata": {},
   "outputs": [
    {
     "name": "stderr",
     "output_type": "stream",
     "text": [
      "C:\\Users\\prabh\\Anaconda3\\lib\\site-packages\\sklearn\\metrics\\classification.py:1143: UndefinedMetricWarning: F-score is ill-defined and being set to 0.0 in labels with no predicted samples.\n",
      "  'precision', 'predicted', average, warn_for)\n"
     ]
    },
    {
     "data": {
      "text/plain": [
       "0.7468137053851788"
      ]
     },
     "execution_count": 117,
     "metadata": {},
     "output_type": "execute_result"
    }
   ],
   "source": [
    "f1_score(y_test,pred,average=\"weighted\")"
   ]
  },
  {
   "cell_type": "code",
   "execution_count": 118,
   "metadata": {},
   "outputs": [
    {
     "data": {
      "text/plain": [
       "array(['1'], dtype='<U1')"
      ]
     },
     "execution_count": 118,
     "metadata": {},
     "output_type": "execute_result"
    }
   ],
   "source": [
    "#test cell\n",
    "# only predicts '1'\n",
    "np.unique(pred)"
   ]
  },
  {
   "cell_type": "code",
   "execution_count": null,
   "metadata": {},
   "outputs": [],
   "source": []
  },
  {
   "cell_type": "code",
   "execution_count": null,
   "metadata": {},
   "outputs": [],
   "source": []
  },
  {
   "cell_type": "code",
   "execution_count": null,
   "metadata": {},
   "outputs": [],
   "source": []
  },
  {
   "cell_type": "code",
   "execution_count": null,
   "metadata": {},
   "outputs": [],
   "source": []
  },
  {
   "cell_type": "code",
   "execution_count": 121,
   "metadata": {},
   "outputs": [
    {
     "name": "stdout",
     "output_type": "stream",
     "text": [
      "+-------------------------+-----------+------------------------+\n",
      "|        Algorithm        | Technique | Hyperparameter - alpha |\n",
      "+-------------------------+-----------+------------------------+\n",
      "| Multinomial Naive Bayes |   Tf_idf  |          0.01          |\n",
      "+-------------------------+-----------+------------------------+\n"
     ]
    }
   ],
   "source": [
    "table=PrettyTable()\n",
    "table.field_names = ['Algorithm', 'Technique', 'Hyperparameter - alpha']\n",
    "table.add_row(['Multinomial Naive Bayes', 'Tf_idf', '0.01'])\n",
    "print(table)"
   ]
  },
  {
   "cell_type": "code",
   "execution_count": 122,
   "metadata": {},
   "outputs": [
    {
     "name": "stdout",
     "output_type": "stream",
     "text": [
      "Negative Class Top Features:\n",
      "['buy' 'tri' 'one' 'flavor' 'coffe' 'would' 'product' 'like' 'tast' 'not']\n",
      "********************\n",
      "Positive Class Top Features:\n",
      "['use' 'coffe' 'flavor' 'not' 'good' 'like' 'tea' 'tast' 'love' 'great']\n"
     ]
    }
   ],
   "source": [
    "pred,op_NB = optimal_NB(tfidf_train, tfidf_test, y_train,tfidf_op_alpha,tfidf_vect)"
   ]
  },
  {
   "cell_type": "code",
   "execution_count": 123,
   "metadata": {},
   "outputs": [
    {
     "name": "stdout",
     "output_type": "stream",
     "text": [
      "AxesSubplot(0.125,0.125;0.62x0.755)\n",
      "+-----------------+--------------+----------+----------+\n",
      "| Precision Score | Recall Score | f1 Score | Accuracy |\n",
      "+-----------------+--------------+----------+----------+\n",
      "|      0.8947     |    0.8945    |  0.8795  |  0.8945  |\n",
      "+-----------------+--------------+----------+----------+\n"
     ]
    },
    {
     "data": {
      "image/png": "[encoded data removed]",
      "text/plain": [
       "<Figure size 432x288 with 2 Axes>"
      ]
     },
     "metadata": {
      "needs_background": "light"
     },
     "output_type": "display_data"
    }
   ],
   "source": [
    "gen_scores(y_test,pred)"
   ]
  },
  {
   "cell_type": "code",
   "execution_count": null,
   "metadata": {},
   "outputs": [],
   "source": []
  },
  {
   "cell_type": "markdown",
   "metadata": {},
   "source": [
    "# Bernaulli Navie Bayes on Bag of Words"
   ]
  },
  {
   "cell_type": "code",
   "execution_count": 137,
   "metadata": {},
   "outputs": [],
   "source": [
    "def apply_BNB(X_train, y_train):\n",
    "    \"\"\"accepts X_train, y_train and returns optimum alpha\"\"\"\n",
    "    alpha_list = [0.00001, 0.0001, 0.001, 0.01, 0.1, 1, 10, 100]\n",
    "    \n",
    "    cv_scores=[]\n",
    "    for alpha in alpha_list:\n",
    "        scores = cross_val_score(BernoulliNB(alpha=alpha), X_train, y_train, scoring= make_scorer(f1_score, average='weighted'), cv=5)\n",
    "        cv_scores.append(scores.mean())\n",
    "        print(\"ALPHA : %f , Score : %f\" % (alpha,scores.mean()))\n",
    "    \n",
    "    op_index = cv_scores.index(max(cv_scores))\n",
    "    op_alpha = alpha_list[op_index]\n",
    "    print(\"Optimum Alpha\",op_alpha)\n",
    "    print(plt.plot(alpha_list,cv_scores,marker='o',linestyle=\"dashed\"))\n",
    "    return op_alpha\n",
    "\n",
    "\n",
    "def optimal_BNB(X_train, X_test, y_train, op_alpha, count_vect):\n",
    "    \"\"\"returns prediction list and the optimal Naive Bayes model trained by using the optimal alpha value\"\"\"\n",
    "    op_NB = BernoulliNB(alpha=op_alpha)\n",
    "    op_NB.fit(X_train,y_train)\n",
    "    pred = op_NB.predict(X_test)\n",
    "    \n",
    "    \n",
    "    neg_class_prob_sorted =op_NB.feature_log_prob_[0, :].argsort()\n",
    "    pos_class_prob_sorted =op_NB.feature_log_prob_[1, :].argsort()\n",
    "\n",
    "    print(\"Negative Class Top Features:\")\n",
    "    print(np.take(count_vect.get_feature_names(), neg_class_prob_sorted[-10:]))\n",
    "    print(\"*\"*20)\n",
    "    print(\"Positive Class Top Features:\")\n",
    "    print(np.take(count_vect.get_feature_names(), pos_class_prob_sorted[-10:]))\n",
    "    return pred,op_NB"
   ]
  },
  {
   "cell_type": "code",
   "execution_count": 138,
   "metadata": {},
   "outputs": [
    {
     "name": "stdout",
     "output_type": "stream",
     "text": [
      "ALPHA : 0.000010 , Score : 0.887696\n",
      "ALPHA : 0.000100 , Score : 0.888621\n",
      "ALPHA : 0.001000 , Score : 0.889975\n",
      "ALPHA : 0.010000 , Score : 0.890946\n",
      "ALPHA : 0.100000 , Score : 0.890022\n",
      "ALPHA : 1.000000 , Score : 0.882013\n",
      "ALPHA : 10.000000 , Score : 0.808045\n",
      "ALPHA : 100.000000 , Score : 0.782883\n",
      "Optimum Alpha 0.01\n",
      "[<matplotlib.lines.Line2D object at 0x000002424A8470F0>]\n"
     ]
    },
    {
     "data": {
      "image/png": "[encoded data removed]",
      "text/plain": [
       "<Figure size 432x288 with 1 Axes>"
      ]
     },
     "metadata": {
      "needs_background": "light"
     },
     "output_type": "display_data"
    }
   ],
   "source": [
    "op_alpha = apply_BNB(bow_train,y_train)"
   ]
  },
  {
   "cell_type": "code",
   "execution_count": 139,
   "metadata": {},
   "outputs": [
    {
     "name": "stdout",
     "output_type": "stream",
     "text": [
      "Negative Class Top Features:\n",
      "['buy' 'good' 'flavor' 'tri' 'would' 'one' 'product' 'like' 'tast' 'not']\n",
      "********************\n",
      "Positive Class Top Features:\n",
      "['tri' 'use' 'one' 'flavor' 'great' 'good' 'love' 'tast' 'like' 'not']\n"
     ]
    }
   ],
   "source": [
    "pred,clf=optimal_BNB(bow_train, bow_test, y_train, op_alpha, count_vect)"
   ]
  },
  {
   "cell_type": "code",
   "execution_count": 140,
   "metadata": {},
   "outputs": [
    {
     "name": "stdout",
     "output_type": "stream",
     "text": [
      "AxesSubplot(0.125,0.125;0.62x0.755)\n",
      "+-----------------+--------------+----------+----------+\n",
      "| Precision Score | Recall Score | f1 Score | Accuracy |\n",
      "+-----------------+--------------+----------+----------+\n",
      "|      0.8837     |    0.8845    |  0.8841  |  0.8845  |\n",
      "+-----------------+--------------+----------+----------+\n"
     ]
    },
    {
     "data": {
      "image/png": "[encoded data removed]",
      "text/plain": [
       "<Figure size 432x288 with 2 Axes>"
      ]
     },
     "metadata": {
      "needs_background": "light"
     },
     "output_type": "display_data"
    }
   ],
   "source": [
    "gen_scores(y_test,pred)"
   ]
  },
  {
   "cell_type": "code",
   "execution_count": null,
   "metadata": {},
   "outputs": [],
   "source": []
  },
  {
   "cell_type": "markdown",
   "metadata": {},
   "source": [
    "# Conclusion"
   ]
  },
  {
   "cell_type": "code",
   "execution_count": 143,
   "metadata": {},
   "outputs": [
    {
     "name": "stdout",
     "output_type": "stream",
     "text": [
      "+------------------------+----------------+----------------+--------------+\n",
      "|                        |  Bag of Words  |     Tf_idf     | Bag Of Words |\n",
      "+------------------------+----------------+----------------+--------------+\n",
      "|       Algorithm        | Multinomial NB | Multinomial NB | Bernaulli NB |\n",
      "| HyperParameter - alpha |       1        |      0.01      |     0.01     |\n",
      "|    Train - F1 Score    |     90.15      |     89.66      |    89.09     |\n",
      "|    Test - F1 Score     |     89.65      |     87.95      |    88.41     |\n",
      "|    Test - Precision    |     89.61      |     89.47      |    88.37     |\n",
      "|     Test - Recall      |     89.69      |     89.45      |    88.45     |\n",
      "|    Test - Accuracy     |     89.69      |     89.45      |    88.45     |\n",
      "+------------------------+----------------+----------------+--------------+\n"
     ]
    }
   ],
   "source": [
    "table = PrettyTable()\n",
    "table.field_names = ['','Bag of Words', 'Tf_idf', 'Bag Of Words']\n",
    "table.add_row(['Algorithm', 'Multinomial NB', 'Multinomial NB', 'Bernaulli NB'])\n",
    "table.add_row(['HyperParameter - alpha', '1', '0.01', '0.01'])\n",
    "table.add_row(['Train - F1 Score', '90.15', '89.66', '89.09'])\n",
    "table.add_row(['Test - F1 Score', '89.65', '87.95', '88.41'])\n",
    "table.add_row(['Test - Precision', '89.61','89.47', '88.37'])\n",
    "table.add_row(['Test - Recall', '89.69', '89.45', '88.45'])\n",
    "table.add_row(['Test - Accuracy', '89.69', '89.45', '88.45'])\n",
    "print(table)"
   ]
  },
  {
   "cell_type": "markdown",
   "metadata": {},
   "source": [
    "# Steps/Flow\n",
    "*Loaded Pre-Processed data\n",
    "\n",
    "*Sorted Data according to Time\n",
    "\n",
    "*Splitted into (70:30) : ( Train+CV : Test) \n",
    "\n",
    "*Used Bag of Words and Tf_idf techniques for text processing\n",
    "\n",
    "*F1 score was considered for hyper parameter tuning using Cross Validation\n",
    "\n",
    "*Optimal model was built using Multinomial Naive Bayes\n",
    "\n",
    "*Bernaulli NB was also tested for Bag of Words\n",
    "\n",
    "*Scoring metrics were compared"
   ]
  },
  {
   "cell_type": "code",
   "execution_count": null,
   "metadata": {},
   "outputs": [],
   "source": []
  }
 ],
 "metadata": {
  "kernelspec": {
   "display_name": "Python 3",
   "language": "python",
   "name": "python3"
  },
  "language_info": {
   "codemirror_mode": {
    "name": "ipython",
    "version": 3
   },
   "file_extension": ".py",
   "mimetype": "text/x-python",
   "name": "python",
   "nbconvert_exporter": "python",
   "pygments_lexer": "ipython3",
   "version": "3.7.0"
  }
 },
 "nbformat": 4,
 "nbformat_minor": 2
}
