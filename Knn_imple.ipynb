{
 "cells": [
  {
   "cell_type": "code",
   "execution_count": 3,
   "metadata": {},
   "outputs": [],
   "source": [
    "import pandas as pd\n",
    "import numpy as np\n",
    "import seaborn as sns\n",
    "import matplotlib.pyplot as plt\n",
    "import numpy as np\n",
    "import nltk\n",
    "%matplotlib inline"
   ]
  },
  {
   "cell_type": "code",
   "execution_count": 4,
   "metadata": {},
   "outputs": [],
   "source": [
    "data = pd.read_csv('final_data.csv')"
   ]
  },
  {
   "cell_type": "code",
   "execution_count": 5,
   "metadata": {},
   "outputs": [],
   "source": [
    "data.dropna(inplace=True)"
   ]
  },
  {
   "cell_type": "code",
   "execution_count": 6,
   "metadata": {},
   "outputs": [],
   "source": [
    "posi_data = data[data['Score'] == 'positive'].sample(1500)\n",
    "negi_data = data[data['Score'] == 'negative'].sample(1500)"
   ]
  },
  {
   "cell_type": "code",
   "execution_count": 7,
   "metadata": {},
   "outputs": [
    {
     "data": {
      "text/plain": [
       "negative    1500\n",
       "positive    1500\n",
       "Name: Score, dtype: int64"
      ]
     },
     "execution_count": 7,
     "metadata": {},
     "output_type": "execute_result"
    }
   ],
   "source": [
    "reduced_data = pd.concat([posi_data, negi_data],axis=0,ignore_index=True)\n",
    "reduced_data = reduced_data.sample(frac=1).reset_index(drop=True)\n",
    "reduced_data['Score'].value_counts()"
   ]
  },
  {
   "cell_type": "code",
   "execution_count": 8,
   "metadata": {},
   "outputs": [],
   "source": [
    "reduced_data.sort_values(by='Time', axis=0,inplace=True)"
   ]
  },
  {
   "cell_type": "code",
   "execution_count": 9,
   "metadata": {},
   "outputs": [],
   "source": [
    "reduced_data.reset_index(inplace=True, drop=True)"
   ]
  },
  {
   "cell_type": "code",
   "execution_count": 10,
   "metadata": {},
   "outputs": [
    {
     "data": {
      "text/html": [
       "<div>\n",
       "<style scoped>\n",
       "    .dataframe tbody tr th:only-of-type {\n",
       "        vertical-align: middle;\n",
       "    }\n",
       "\n",
       "    .dataframe tbody tr th {\n",
       "        vertical-align: top;\n",
       "    }\n",
       "\n",
       "    .dataframe thead th {\n",
       "        text-align: right;\n",
       "    }\n",
       "</style>\n",
       "<table border=\"1\" class=\"dataframe\">\n",
       "  <thead>\n",
       "    <tr style=\"text-align: right;\">\n",
       "      <th></th>\n",
       "      <th>Id</th>\n",
       "      <th>ProductId</th>\n",
       "      <th>UserId</th>\n",
       "      <th>ProfileName</th>\n",
       "      <th>HelpfulnessNumerator</th>\n",
       "      <th>HelpfulnessDenominator</th>\n",
       "      <th>Score</th>\n",
       "      <th>Time</th>\n",
       "      <th>Summary</th>\n",
       "      <th>Text</th>\n",
       "      <th>CleanedText</th>\n",
       "    </tr>\n",
       "  </thead>\n",
       "  <tbody>\n",
       "    <tr>\n",
       "      <th>0</th>\n",
       "      <td>241479</td>\n",
       "      <td>B0001E5CJO</td>\n",
       "      <td>A3KZ5XRURPTK8A</td>\n",
       "      <td>Scooze</td>\n",
       "      <td>6</td>\n",
       "      <td>17</td>\n",
       "      <td>negative</td>\n",
       "      <td>1109116800</td>\n",
       "      <td>Are You Kidding Me??</td>\n",
       "      <td>I just finished watching this train wreck and ...</td>\n",
       "      <td>finish watch train wreck warn anyon consid buy...</td>\n",
       "    </tr>\n",
       "    <tr>\n",
       "      <th>1</th>\n",
       "      <td>319504</td>\n",
       "      <td>B0007LXU9A</td>\n",
       "      <td>A1OJA99YT911TA</td>\n",
       "      <td>Julien R. Fielding \"Bodhi Grrl!\"</td>\n",
       "      <td>12</td>\n",
       "      <td>12</td>\n",
       "      <td>positive</td>\n",
       "      <td>1127088000</td>\n",
       "      <td>I love these bars</td>\n",
       "      <td>If you are on Weight Watchers, there is no bet...</td>\n",
       "      <td>weight watcher better snack bar eat breakfast ...</td>\n",
       "    </tr>\n",
       "    <tr>\n",
       "      <th>2</th>\n",
       "      <td>451583</td>\n",
       "      <td>B000E4AEOO</td>\n",
       "      <td>A38PUAMKVKDO88</td>\n",
       "      <td>Jasmine Miller \"Jasmine Miller\"</td>\n",
       "      <td>0</td>\n",
       "      <td>1</td>\n",
       "      <td>negative</td>\n",
       "      <td>1139875200</td>\n",
       "      <td>Celiac CAUTION: Contains Barley Malt</td>\n",
       "      <td>When first diagnosed with IBS, I bought this t...</td>\n",
       "      <td>first diagnos ib bought tea sooth digest conta...</td>\n",
       "    </tr>\n",
       "    <tr>\n",
       "      <th>3</th>\n",
       "      <td>14277</td>\n",
       "      <td>B000Z94AGQ</td>\n",
       "      <td>ACW2VAH8T3E08</td>\n",
       "      <td>Cynthia Welti Jones</td>\n",
       "      <td>0</td>\n",
       "      <td>0</td>\n",
       "      <td>positive</td>\n",
       "      <td>1141084800</td>\n",
       "      <td>Celestial Seasonings - Bengal Spice Natural He...</td>\n",
       "      <td>I love this tea.  It is very rich in taste, sm...</td>\n",
       "      <td>love tea rich tast smell wonder leav funni tas...</td>\n",
       "    </tr>\n",
       "    <tr>\n",
       "      <th>4</th>\n",
       "      <td>469194</td>\n",
       "      <td>B000AQFQC6</td>\n",
       "      <td>ACLD6ZHBZC6TP</td>\n",
       "      <td>K. Bowen</td>\n",
       "      <td>3</td>\n",
       "      <td>4</td>\n",
       "      <td>negative</td>\n",
       "      <td>1141171200</td>\n",
       "      <td>thoroughly disgusted</td>\n",
       "      <td>After watching an advertisement for the tofu n...</td>\n",
       "      <td>watch advertis tofu noodl decid tri suppos tas...</td>\n",
       "    </tr>\n",
       "  </tbody>\n",
       "</table>\n",
       "</div>"
      ],
      "text/plain": [
       "       Id   ProductId          UserId                       ProfileName  \\\n",
       "0  241479  B0001E5CJO  A3KZ5XRURPTK8A                            Scooze   \n",
       "1  319504  B0007LXU9A  A1OJA99YT911TA  Julien R. Fielding \"Bodhi Grrl!\"   \n",
       "2  451583  B000E4AEOO  A38PUAMKVKDO88   Jasmine Miller \"Jasmine Miller\"   \n",
       "3   14277  B000Z94AGQ   ACW2VAH8T3E08               Cynthia Welti Jones   \n",
       "4  469194  B000AQFQC6   ACLD6ZHBZC6TP                          K. Bowen   \n",
       "\n",
       "   HelpfulnessNumerator  HelpfulnessDenominator     Score        Time  \\\n",
       "0                     6                      17  negative  1109116800   \n",
       "1                    12                      12  positive  1127088000   \n",
       "2                     0                       1  negative  1139875200   \n",
       "3                     0                       0  positive  1141084800   \n",
       "4                     3                       4  negative  1141171200   \n",
       "\n",
       "                                             Summary  \\\n",
       "0                               Are You Kidding Me??   \n",
       "1                                  I love these bars   \n",
       "2               Celiac CAUTION: Contains Barley Malt   \n",
       "3  Celestial Seasonings - Bengal Spice Natural He...   \n",
       "4                               thoroughly disgusted   \n",
       "\n",
       "                                                Text  \\\n",
       "0  I just finished watching this train wreck and ...   \n",
       "1  If you are on Weight Watchers, there is no bet...   \n",
       "2  When first diagnosed with IBS, I bought this t...   \n",
       "3  I love this tea.  It is very rich in taste, sm...   \n",
       "4  After watching an advertisement for the tofu n...   \n",
       "\n",
       "                                         CleanedText  \n",
       "0  finish watch train wreck warn anyon consid buy...  \n",
       "1  weight watcher better snack bar eat breakfast ...  \n",
       "2  first diagnos ib bought tea sooth digest conta...  \n",
       "3  love tea rich tast smell wonder leav funni tas...  \n",
       "4  watch advertis tofu noodl decid tri suppos tas...  "
      ]
     },
     "execution_count": 10,
     "metadata": {},
     "output_type": "execute_result"
    }
   ],
   "source": [
    "reduced_data.head()"
   ]
  },
  {
   "cell_type": "code",
   "execution_count": 11,
   "metadata": {},
   "outputs": [],
   "source": [
    "# BOW"
   ]
  },
  {
   "cell_type": "code",
   "execution_count": 9,
   "metadata": {},
   "outputs": [],
   "source": [
    "from sklearn.feature_extraction.text import CountVectorizer"
   ]
  },
  {
   "cell_type": "code",
   "execution_count": 10,
   "metadata": {},
   "outputs": [],
   "source": [
    "count_vect = CountVectorizer()"
   ]
  },
  {
   "cell_type": "code",
   "execution_count": 11,
   "metadata": {},
   "outputs": [],
   "source": [
    "final_counts = count_vect.fit_transform(reduced_data['CleanedText'].values)"
   ]
  },
  {
   "cell_type": "code",
   "execution_count": 12,
   "metadata": {},
   "outputs": [
    {
     "data": {
      "text/plain": [
       "(3000, 7743)"
      ]
     },
     "execution_count": 12,
     "metadata": {},
     "output_type": "execute_result"
    }
   ],
   "source": [
    "final_counts.shape"
   ]
  },
  {
   "cell_type": "code",
   "execution_count": 13,
   "metadata": {},
   "outputs": [],
   "source": [
    "arr_final_counts = (final_counts).toarray()"
   ]
  },
  {
   "cell_type": "code",
   "execution_count": 15,
   "metadata": {},
   "outputs": [],
   "source": [
    "X = arr_final_counts\n",
    "y = reduced_data['Score'].values"
   ]
  },
  {
   "cell_type": "code",
   "execution_count": 12,
   "metadata": {},
   "outputs": [],
   "source": [
    "from sklearn.model_selection import train_test_split\n",
    "from sklearn.neighbors import KNeighborsClassifier\n",
    "from sklearn.metrics import accuracy_score\n",
    "from sklearn.model_selection import cross_val_score"
   ]
  },
  {
   "cell_type": "code",
   "execution_count": null,
   "metadata": {},
   "outputs": [],
   "source": []
  },
  {
   "cell_type": "code",
   "execution_count": null,
   "metadata": {},
   "outputs": [],
   "source": [
    "# K-NN basic implementation\n",
    "# split the data set into train and test\n",
    "X_1, X_test, y_1, y_test = train_test_split(X, y, test_size=0.3, random_state=0)\n",
    "\n",
    "# split the train data set into cross validation train and cross validation test\n",
    "X_tr, X_cv, y_tr, y_cv = train_test_split(X_1, y_1, test_size=0.3)\n",
    "knn= KNeighborsClassifier(n_neighbors=5)\n",
    "knn.fit(X_tr, y_tr)\n",
    "pred = knn.predict(X_cv)"
   ]
  },
  {
   "cell_type": "code",
   "execution_count": 19,
   "metadata": {},
   "outputs": [
    {
     "name": "stdout",
     "output_type": "stream",
     "text": [
      "63.01587301587301\n"
     ]
    }
   ],
   "source": [
    "acc = accuracy_score(y_cv, pred, normalize=True) * float(100)\n",
    "print(acc)"
   ]
  },
  {
   "cell_type": "code",
   "execution_count": null,
   "metadata": {},
   "outputs": [],
   "source": []
  },
  {
   "cell_type": "code",
   "execution_count": null,
   "metadata": {},
   "outputs": [],
   "source": []
  },
  {
   "cell_type": "markdown",
   "metadata": {},
   "source": [
    "# BOW - 10 fold cross validation"
   ]
  },
  {
   "cell_type": "code",
   "execution_count": 17,
   "metadata": {},
   "outputs": [],
   "source": [
    "X_train, X_test, y_train, y_test = train_test_split(X, y, test_size=0.3, random_state=0)"
   ]
  },
  {
   "cell_type": "code",
   "execution_count": 19,
   "metadata": {},
   "outputs": [
    {
     "data": {
      "text/plain": [
       "(2100, 7743)"
      ]
     },
     "execution_count": 19,
     "metadata": {},
     "output_type": "execute_result"
    }
   ],
   "source": [
    "X_train.shape"
   ]
  },
  {
   "cell_type": "code",
   "execution_count": 20,
   "metadata": {},
   "outputs": [],
   "source": [
    "neighbours = list(range(1,50,2))\n",
    "cv_scores = []\n",
    "# perform 10-fold cross validation\n",
    "for k in neighbours:\n",
    "    knn= KNeighborsClassifier(n_neighbors=k)\n",
    "    scores = cross_val_score(knn, X_train, y_train, scoring='accuracy', cv=10)\n",
    "    cv_scores.append(scores.mean())\n"
   ]
  },
  {
   "cell_type": "code",
   "execution_count": 26,
   "metadata": {},
   "outputs": [],
   "source": [
    "optimal_k = neighbours[cv_scores.index(max(cv_scores))]"
   ]
  },
  {
   "cell_type": "code",
   "execution_count": 34,
   "metadata": {},
   "outputs": [
    {
     "name": "stdout",
     "output_type": "stream",
     "text": [
      "CV_SCORES:  [0.621005940097983, 0.6390743770239904, 0.6324575549170212, 0.6595668404099435, 0.6571472628145114, 0.6532854216540922, 0.6704467221478945, 0.6685600364547734, 0.6780543992467164, 0.6756644843474475, 0.6804354164169579, 0.6928301257236154, 0.689498941235035, 0.7047328467657727, 0.7023541296152921, 0.7023245749012773, 0.702809879070792, 0.6985717309214441, 0.6985604251905075, 0.6942700676724124, 0.6995468313178466, 0.697612644277648, 0.6999980239266843, 0.704796318672597, 0.702866602093342]\n"
     ]
    },
    {
     "data": {
      "image/png": "[encoded data removed]",
      "text/plain": [
       "<Figure size 432x288 with 1 Axes>"
      ]
     },
     "metadata": {
      "needs_background": "light"
     },
     "output_type": "display_data"
    }
   ],
   "source": [
    "plt.plot(neighbours, cv_scores)\n",
    "for xy in zip(neighbours,np.round(cv_scores,2)):\n",
    "    plt.annotate(\"('%s',%s)\"% xy, xy=xy, textcoords='data')\n",
    "plt.xlabel('Number of Neighbors K')\n",
    "plt.ylabel('CV_Scores')\n",
    "print(\"CV_SCORES: \",cv_scores)"
   ]
  },
  {
   "cell_type": "code",
   "execution_count": 36,
   "metadata": {},
   "outputs": [
    {
     "name": "stdout",
     "output_type": "stream",
     "text": [
      "\n",
      "The accuracy of the knn classifier for k = 23 is 70.000000%\n"
     ]
    }
   ],
   "source": [
    "# ============================== KNN with k = optimal_k ===============================================\n",
    "# instantiate learning model k = optimal_k\n",
    "knn_optimal = KNeighborsClassifier(n_neighbors=optimal_k)\n",
    "\n",
    "# fitting the model\n",
    "knn_optimal.fit(X_train, y_train)\n",
    "\n",
    "# predict the response\n",
    "pred = knn_optimal.predict(X_test)\n",
    "\n",
    "# evaluate accuracy\n",
    "acc = accuracy_score(y_test, pred) * 100\n",
    "print('\\nThe accuracy of the knn classifier for k = %d is %f%%' % (optimal_k, acc))"
   ]
  },
  {
   "cell_type": "code",
   "execution_count": null,
   "metadata": {},
   "outputs": [],
   "source": []
  },
  {
   "cell_type": "markdown",
   "metadata": {},
   "source": [
    "# BOW - 10 fold cross validation (kd-tree)"
   ]
  },
  {
   "cell_type": "code",
   "execution_count": 5,
   "metadata": {},
   "outputs": [
    {
     "name": "stdout",
     "output_type": "stream",
     "text": [
      "positive    2000\n",
      "negative    2000\n",
      "Name: Score, dtype: int64\n"
     ]
    },
    {
     "data": {
      "text/html": [
       "<div>\n",
       "<style scoped>\n",
       "    .dataframe tbody tr th:only-of-type {\n",
       "        vertical-align: middle;\n",
       "    }\n",
       "\n",
       "    .dataframe tbody tr th {\n",
       "        vertical-align: top;\n",
       "    }\n",
       "\n",
       "    .dataframe thead th {\n",
       "        text-align: right;\n",
       "    }\n",
       "</style>\n",
       "<table border=\"1\" class=\"dataframe\">\n",
       "  <thead>\n",
       "    <tr style=\"text-align: right;\">\n",
       "      <th></th>\n",
       "      <th>Id</th>\n",
       "      <th>ProductId</th>\n",
       "      <th>UserId</th>\n",
       "      <th>ProfileName</th>\n",
       "      <th>HelpfulnessNumerator</th>\n",
       "      <th>HelpfulnessDenominator</th>\n",
       "      <th>Score</th>\n",
       "      <th>Time</th>\n",
       "      <th>Summary</th>\n",
       "      <th>Text</th>\n",
       "      <th>CleanedText</th>\n",
       "    </tr>\n",
       "  </thead>\n",
       "  <tbody>\n",
       "    <tr>\n",
       "      <th>0</th>\n",
       "      <td>374408</td>\n",
       "      <td>B00004CI84</td>\n",
       "      <td>A1GB1Q193DNFGR</td>\n",
       "      <td>Bruce Lee Pullen</td>\n",
       "      <td>5</td>\n",
       "      <td>5</td>\n",
       "      <td>positive</td>\n",
       "      <td>970531200</td>\n",
       "      <td>Fabulous Comedic Fanasy Directed by a Master</td>\n",
       "      <td>Beetlejuice is an awe-inspiring wonderfully am...</td>\n",
       "      <td>beetlejuic wonder amus comed romp explor incre...</td>\n",
       "    </tr>\n",
       "    <tr>\n",
       "      <th>1</th>\n",
       "      <td>557949</td>\n",
       "      <td>B0000DJDL4</td>\n",
       "      <td>A1Y20KNCR0SZA1</td>\n",
       "      <td>Dessartfamily \"grandmasoven\"</td>\n",
       "      <td>8</td>\n",
       "      <td>9</td>\n",
       "      <td>positive</td>\n",
       "      <td>1072915200</td>\n",
       "      <td>The best Kringles ever</td>\n",
       "      <td>Others try to make kringles but there is only ...</td>\n",
       "      <td>other tri make kringl one bakeri make real dan...</td>\n",
       "    </tr>\n",
       "    <tr>\n",
       "      <th>2</th>\n",
       "      <td>342462</td>\n",
       "      <td>B000084F3O</td>\n",
       "      <td>A3DWUM6SN3N3NR</td>\n",
       "      <td>Author Brian Wallace (Mind Transmission, Inc.)</td>\n",
       "      <td>4</td>\n",
       "      <td>33</td>\n",
       "      <td>negative</td>\n",
       "      <td>1076457600</td>\n",
       "      <td>the most unnatural odor</td>\n",
       "      <td>I really hate to do this (having been a fan of...</td>\n",
       "      <td>realli hate fan van patten year feel must save...</td>\n",
       "    </tr>\n",
       "    <tr>\n",
       "      <th>3</th>\n",
       "      <td>409836</td>\n",
       "      <td>B000PDFEKI</td>\n",
       "      <td>ALY1O3V3SG8HK</td>\n",
       "      <td>Leslie Wagner \"Lesliepd\"</td>\n",
       "      <td>0</td>\n",
       "      <td>0</td>\n",
       "      <td>positive</td>\n",
       "      <td>1103760000</td>\n",
       "      <td>Delicious sauce!</td>\n",
       "      <td>I thought we were doomed to another night of b...</td>\n",
       "      <td>thought doom anoth night bore broil fish boy w...</td>\n",
       "    </tr>\n",
       "    <tr>\n",
       "      <th>4</th>\n",
       "      <td>390023</td>\n",
       "      <td>B0002268R0</td>\n",
       "      <td>A2OWD8YTOKT5OM</td>\n",
       "      <td>Sean McGahee</td>\n",
       "      <td>6</td>\n",
       "      <td>6</td>\n",
       "      <td>positive</td>\n",
       "      <td>1103932800</td>\n",
       "      <td>My favorite candy bar ever.</td>\n",
       "      <td>This candy bar is fantastic! I live in the Uni...</td>\n",
       "      <td>candi bar fantast live unit state not realli a...</td>\n",
       "    </tr>\n",
       "  </tbody>\n",
       "</table>\n",
       "</div>"
      ],
      "text/plain": [
       "       Id   ProductId          UserId  \\\n",
       "0  374408  B00004CI84  A1GB1Q193DNFGR   \n",
       "1  557949  B0000DJDL4  A1Y20KNCR0SZA1   \n",
       "2  342462  B000084F3O  A3DWUM6SN3N3NR   \n",
       "3  409836  B000PDFEKI   ALY1O3V3SG8HK   \n",
       "4  390023  B0002268R0  A2OWD8YTOKT5OM   \n",
       "\n",
       "                                      ProfileName  HelpfulnessNumerator  \\\n",
       "0                                Bruce Lee Pullen                     5   \n",
       "1                    Dessartfamily \"grandmasoven\"                     8   \n",
       "2  Author Brian Wallace (Mind Transmission, Inc.)                     4   \n",
       "3                        Leslie Wagner \"Lesliepd\"                     0   \n",
       "4                                    Sean McGahee                     6   \n",
       "\n",
       "   HelpfulnessDenominator     Score        Time  \\\n",
       "0                       5  positive   970531200   \n",
       "1                       9  positive  1072915200   \n",
       "2                      33  negative  1076457600   \n",
       "3                       0  positive  1103760000   \n",
       "4                       6  positive  1103932800   \n",
       "\n",
       "                                        Summary  \\\n",
       "0  Fabulous Comedic Fanasy Directed by a Master   \n",
       "1                        The best Kringles ever   \n",
       "2                       the most unnatural odor   \n",
       "3                              Delicious sauce!   \n",
       "4                   My favorite candy bar ever.   \n",
       "\n",
       "                                                Text  \\\n",
       "0  Beetlejuice is an awe-inspiring wonderfully am...   \n",
       "1  Others try to make kringles but there is only ...   \n",
       "2  I really hate to do this (having been a fan of...   \n",
       "3  I thought we were doomed to another night of b...   \n",
       "4  This candy bar is fantastic! I live in the Uni...   \n",
       "\n",
       "                                         CleanedText  \n",
       "0  beetlejuic wonder amus comed romp explor incre...  \n",
       "1  other tri make kringl one bakeri make real dan...  \n",
       "2  realli hate fan van patten year feel must save...  \n",
       "3  thought doom anoth night bore broil fish boy w...  \n",
       "4  candi bar fantast live unit state not realli a...  "
      ]
     },
     "execution_count": 5,
     "metadata": {},
     "output_type": "execute_result"
    }
   ],
   "source": [
    "posi_data = data[data['Score'] == 'positive'].sample(2000)\n",
    "negi_data = data[data['Score'] == 'negative'].sample(2000)\n",
    "reduced_data = pd.concat([posi_data, negi_data],axis=0,ignore_index=True)\n",
    "reduced_data = reduced_data.sample(frac=1).reset_index(drop=True)\n",
    "print(reduced_data['Score'].value_counts())\n",
    "reduced_data.sort_values(by='Time', axis=0,inplace=True)\n",
    "reduced_data.reset_index(inplace=True, drop=True)\n",
    "reduced_data.head()"
   ]
  },
  {
   "cell_type": "code",
   "execution_count": 6,
   "metadata": {},
   "outputs": [
    {
     "name": "stdout",
     "output_type": "stream",
     "text": [
      "(4000, 8960)\n"
     ]
    }
   ],
   "source": [
    "from sklearn.feature_extraction.text import CountVectorizer\n",
    "count_vect = CountVectorizer()\n",
    "final_counts = count_vect.fit_transform(reduced_data['CleanedText'].values)\n",
    "print(final_counts.shape)\n",
    "arr_final_counts = (final_counts).toarray()"
   ]
  },
  {
   "cell_type": "code",
   "execution_count": 7,
   "metadata": {},
   "outputs": [],
   "source": [
    "X = arr_final_counts\n",
    "y = reduced_data['Score'].values"
   ]
  },
  {
   "cell_type": "code",
   "execution_count": 8,
   "metadata": {},
   "outputs": [],
   "source": [
    "from sklearn.model_selection import train_test_split\n",
    "from sklearn.neighbors import KNeighborsClassifier\n",
    "from sklearn.metrics import accuracy_score\n",
    "from sklearn.model_selection import cross_val_score"
   ]
  },
  {
   "cell_type": "code",
   "execution_count": 9,
   "metadata": {},
   "outputs": [],
   "source": [
    "X_train, X_test, y_train, y_test = train_test_split(X, y, test_size=0.3, random_state=0)"
   ]
  },
  {
   "cell_type": "code",
   "execution_count": 12,
   "metadata": {},
   "outputs": [
    {
     "name": "stdout",
     "output_type": "stream",
     "text": [
      "K:  5\n",
      "Score:  0.6739699121526695\n",
      "K:  7\n",
      "Score:  0.6893182402107898\n",
      "K:  9\n",
      "Score:  0.6875389263347017\n",
      "K:  11\n",
      "Score:  0.6832582321567513\n",
      "K:  13\n",
      "Score:  0.6889725452037471\n",
      "K:  15\n",
      "Score:  0.6835834731857002\n",
      "K:  17\n",
      "Score:  0.6825363023945277\n",
      "K:  19\n",
      "Score:  0.6871702627402316\n",
      "K:  21\n",
      "Score:  0.6850350314235057\n",
      "K:  23\n",
      "Score:  0.6893233787602976\n",
      "K:  25\n",
      "Score:  0.6925172560510066\n",
      "K:  27\n",
      "Score:  0.6903501502387968\n",
      "K:  29\n",
      "Score:  0.6853934361407672\n",
      "K:  31\n",
      "Score:  0.6835796967162482\n",
      "K:  33\n",
      "Score:  0.6835682033116312\n",
      "K:  35\n",
      "Score:  0.6839317374674968\n",
      "K:  37\n",
      "Score:  0.6821345206662621\n",
      "K:  39\n",
      "Score:  0.6835631285384471\n"
     ]
    }
   ],
   "source": [
    "neighbours = list(range(5,40,2))\n",
    "cv_scores = []\n",
    "# perform 10-fold cross validation\n",
    "for k in neighbours:\n",
    "    knn= KNeighborsClassifier(n_neighbors=k,algorithm='kd_tree')\n",
    "    scores = cross_val_score(knn, X_train, y_train, scoring='accuracy', cv=10)\n",
    "    cv_scores.append(scores.mean())\n",
    "    print(\"K: \",k)\n",
    "    print(\"Score: \",scores.mean())\n"
   ]
  },
  {
   "cell_type": "code",
   "execution_count": 17,
   "metadata": {},
   "outputs": [],
   "source": [
    "optimal_k = neighbours[cv_scores.index(max(cv_scores))]"
   ]
  },
  {
   "cell_type": "code",
   "execution_count": 18,
   "metadata": {},
   "outputs": [
    {
     "name": "stdout",
     "output_type": "stream",
     "text": [
      "CV_SCORES:  [0.6739699121526695, 0.6893182402107898, 0.6875389263347017, 0.6832582321567513, 0.6889725452037471, 0.6835834731857002, 0.6825363023945277, 0.6871702627402316, 0.6850350314235057, 0.6893233787602976, 0.6925172560510066, 0.6903501502387968, 0.6853934361407672, 0.6835796967162482, 0.6835682033116312, 0.6839317374674968, 0.6821345206662621, 0.6835631285384471]\n"
     ]
    },
    {
     "data": {
      "image/png": "[encoded data removed]",
      "text/plain": [
       "<Figure size 432x288 with 1 Axes>"
      ]
     },
     "metadata": {
      "needs_background": "light"
     },
     "output_type": "display_data"
    }
   ],
   "source": [
    "plt.plot(neighbours, cv_scores)\n",
    "for xy in zip(neighbours,np.round(cv_scores,2)):\n",
    "    plt.annotate(\"('%s',%s)\"% xy, xy=xy, textcoords='data')\n",
    "plt.xlabel('Number of Neighbors K')\n",
    "plt.ylabel('CV_Scores')\n",
    "print(\"CV_SCORES: \",cv_scores)"
   ]
  },
  {
   "cell_type": "code",
   "execution_count": 20,
   "metadata": {},
   "outputs": [
    {
     "name": "stdout",
     "output_type": "stream",
     "text": [
      "\n",
      "The accuracy of the knn classifier for k = 25 is 70.666667%\n"
     ]
    }
   ],
   "source": [
    "# ============================== KNN with k = optimal_k ===============================================\n",
    "# instantiate learning model k = optimal_k\n",
    "knn_optimal = KNeighborsClassifier(n_neighbors=optimal_k, algorithm='kd_tree')\n",
    "\n",
    "# fitting the model\n",
    "knn_optimal.fit(X_train, y_train)\n",
    "\n",
    "# predict the response\n",
    "pred = knn_optimal.predict(X_test)\n",
    "\n",
    "# evaluate accuracy\n",
    "acc = accuracy_score(y_test, pred) * 100\n",
    "print('\\nThe accuracy of the knn classifier for k = %d is %f%%' % (optimal_k, acc))"
   ]
  },
  {
   "cell_type": "code",
   "execution_count": null,
   "metadata": {},
   "outputs": [],
   "source": []
  },
  {
   "cell_type": "code",
   "execution_count": null,
   "metadata": {},
   "outputs": [],
   "source": []
  },
  {
   "cell_type": "markdown",
   "metadata": {},
   "source": [
    "# TF_IDF - 10 fold cross validation (Brute & Kd-tree)"
   ]
  },
  {
   "cell_type": "code",
   "execution_count": 25,
   "metadata": {},
   "outputs": [],
   "source": [
    "def posi_negi_encoding(s):\n",
    "    if s == \"positive\":\n",
    "        return 1\n",
    "    return 0"
   ]
  },
  {
   "cell_type": "code",
   "execution_count": 44,
   "metadata": {},
   "outputs": [],
   "source": [
    "from sklearn.feature_extraction.text import TfidfVectorizer"
   ]
  },
  {
   "cell_type": "code",
   "execution_count": 45,
   "metadata": {},
   "outputs": [],
   "source": [
    "tf_idf_vect = TfidfVectorizer(ngram_range=(1,2))\n",
    "final_tf_idf = tf_idf_vect.fit_transform(reduced_data['CleanedText'].values)"
   ]
  },
  {
   "cell_type": "code",
   "execution_count": 26,
   "metadata": {},
   "outputs": [],
   "source": [
    "X = final_tf_idf.toarray()"
   ]
  },
  {
   "cell_type": "code",
   "execution_count": 33,
   "metadata": {},
   "outputs": [],
   "source": [
    "y = reduced_data['Score'].values"
   ]
  },
  {
   "cell_type": "code",
   "execution_count": 38,
   "metadata": {},
   "outputs": [],
   "source": [
    "y = list(map(posi_negi_encoding,y))"
   ]
  },
  {
   "cell_type": "code",
   "execution_count": 43,
   "metadata": {},
   "outputs": [],
   "source": [
    "X_train, X_test, y_train, y_test = train_test_split(X, y, test_size=0.3, random_state=0)"
   ]
  },
  {
   "cell_type": "code",
   "execution_count": 44,
   "metadata": {},
   "outputs": [
    {
     "name": "stdout",
     "output_type": "stream",
     "text": [
      "K:  1\n",
      "Score:  0.6196350263213999\n",
      "K:  3\n",
      "Score:  0.643571569790431\n",
      "K:  5\n",
      "Score:  0.6621303979824815\n",
      "K:  7\n",
      "Score:  0.683584671269495\n",
      "K:  9\n",
      "Score:  0.6924980457112245\n",
      "K:  11\n",
      "Score:  0.6964279974416583\n",
      "K:  13\n",
      "Score:  0.7092929118993865\n",
      "K:  15\n",
      "Score:  0.7103656205527402\n",
      "K:  17\n",
      "Score:  0.7128644133580421\n",
      "K:  19\n",
      "Score:  0.7239359603712147\n",
      "K:  21\n",
      "Score:  0.7375240846730916\n",
      "K:  23\n",
      "Score:  0.738234584807022\n",
      "K:  25\n",
      "Score:  0.7382320519758816\n",
      "K:  27\n",
      "Score:  0.7396580541296991\n",
      "K:  29\n",
      "Score:  0.7399960413124803\n",
      "K:  31\n",
      "Score:  0.7399909483174893\n",
      "K:  33\n",
      "Score:  0.7517666041658695\n",
      "K:  35\n",
      "Score:  0.7567730319082058\n",
      "K:  37\n",
      "Score:  0.7664159528273865\n",
      "K:  39\n",
      "Score:  0.7635626228833094\n"
     ]
    }
   ],
   "source": [
    "neighbours = list(range(1,40,2))\n",
    "cv_scores = []\n",
    "# perform 10-fold cross validation\n",
    "for k in neighbours:\n",
    "    knn= KNeighborsClassifier(n_neighbors=k,algorithm='brute')\n",
    "    scores = cross_val_score(knn, X_train, y_train, scoring='accuracy', cv=10)\n",
    "    cv_scores.append(scores.mean())\n",
    "    print(\"K: \",k)\n",
    "    print(\"Score: \",scores.mean())\n"
   ]
  },
  {
   "cell_type": "code",
   "execution_count": 45,
   "metadata": {},
   "outputs": [
    {
     "name": "stdout",
     "output_type": "stream",
     "text": [
      "CV_SCORES:  [0.6196350263213999, 0.643571569790431, 0.6621303979824815, 0.683584671269495, 0.6924980457112245, 0.6964279974416583, 0.7092929118993865, 0.7103656205527402, 0.7128644133580421, 0.7239359603712147, 0.7375240846730916, 0.738234584807022, 0.7382320519758816, 0.7396580541296991, 0.7399960413124803, 0.7399909483174893, 0.7517666041658695, 0.7567730319082058, 0.7664159528273865, 0.7635626228833094]\n",
      "Optimal k:  37\n"
     ]
    },
    {
     "data": {
      "image/png": "[encoded data removed]",
      "text/plain": [
       "<Figure size 432x288 with 1 Axes>"
      ]
     },
     "metadata": {
      "needs_background": "light"
     },
     "output_type": "display_data"
    }
   ],
   "source": [
    "optimal_k = neighbours[cv_scores.index(max(cv_scores))]\n",
    "plt.plot(neighbours, cv_scores)\n",
    "for xy in zip(neighbours,np.round(cv_scores,2)):\n",
    "    plt.annotate(\"('%s',%s)\"% xy, xy=xy, textcoords='data')\n",
    "plt.xlabel('Number of Neighbors K')\n",
    "plt.ylabel('CV_Scores')\n",
    "print(\"CV_SCORES: \",cv_scores)\n",
    "print(\"Optimal k: \", optimal_k)"
   ]
  },
  {
   "cell_type": "code",
   "execution_count": 46,
   "metadata": {},
   "outputs": [
    {
     "name": "stdout",
     "output_type": "stream",
     "text": [
      "\n",
      "The accuracy of the knn classifier for k = 37 is 77.000000%\n"
     ]
    }
   ],
   "source": [
    "# ============================== KNN with k = optimal_k ===============================================\n",
    "# instantiate learning model k = optimal_k\n",
    "# BRUTE FORCE\n",
    "knn_optimal = KNeighborsClassifier(n_neighbors=optimal_k, algorithm='brute')\n",
    "\n",
    "# fitting the model\n",
    "knn_optimal.fit(X_train, y_train)\n",
    "\n",
    "# predict the response\n",
    "pred = knn_optimal.predict(X_test)\n",
    "\n",
    "# evaluate accuracy\n",
    "acc = accuracy_score(y_test, pred) * 100\n",
    "print('\\nThe accuracy of the knn classifier for k = %d is %f%%' % (optimal_k, acc))"
   ]
  },
  {
   "cell_type": "code",
   "execution_count": 47,
   "metadata": {},
   "outputs": [
    {
     "name": "stdout",
     "output_type": "stream",
     "text": [
      "\n",
      "The accuracy of the knn classifier for k = 37 is 77.000000%\n"
     ]
    }
   ],
   "source": [
    "# ============================== KNN with k = optimal_k ===============================================\n",
    "# instantiate learning model k = optimal_k\n",
    "# Kd_tree\n",
    "knn_optimal = KNeighborsClassifier(n_neighbors=optimal_k, algorithm='kd_tree')\n",
    "\n",
    "# fitting the model\n",
    "knn_optimal.fit(X_train, y_train)\n",
    "\n",
    "# predict the response\n",
    "pred = knn_optimal.predict(X_test)\n",
    "\n",
    "# evaluate accuracy\n",
    "acc = accuracy_score(y_test, pred) * 100\n",
    "print('\\nThe accuracy of the knn classifier for k = %d is %f%%' % (optimal_k, acc))"
   ]
  },
  {
   "cell_type": "markdown",
   "metadata": {},
   "source": [
    "Observation: As the dimensionality of our input matrix is quite high, the kd tree algorithm took lot more time as compared to brute force algorithm"
   ]
  },
  {
   "cell_type": "code",
   "execution_count": null,
   "metadata": {},
   "outputs": [],
   "source": []
  },
  {
   "cell_type": "markdown",
   "metadata": {},
   "source": [
    "# Average Word 2 Vec"
   ]
  },
  {
   "cell_type": "code",
   "execution_count": 13,
   "metadata": {},
   "outputs": [],
   "source": [
    "from gensim.models import Word2Vec"
   ]
  },
  {
   "cell_type": "code",
   "execution_count": 14,
   "metadata": {},
   "outputs": [
    {
     "data": {
      "text/plain": [
       "364156"
      ]
     },
     "execution_count": 14,
     "metadata": {},
     "output_type": "execute_result"
    }
   ],
   "source": [
    "list_of_sent = []\n",
    "for sentence in data['CleanedText']:\n",
    "  try:\n",
    "    list_of_sent.append(sentence.split())\n",
    "  except:\n",
    "    print(sentence)\n",
    "len(list_of_sent)"
   ]
  },
  {
   "cell_type": "code",
   "execution_count": 15,
   "metadata": {},
   "outputs": [],
   "source": [
    "w2v_model=Word2Vec(list_of_sent,min_count=5,size=50, workers=4)"
   ]
  },
  {
   "cell_type": "code",
   "execution_count": 17,
   "metadata": {},
   "outputs": [],
   "source": [
    "w2v_words = list(w2v_model.wv.vocab)"
   ]
  },
  {
   "cell_type": "code",
   "execution_count": 18,
   "metadata": {},
   "outputs": [],
   "source": [
    "import pickle"
   ]
  },
  {
   "cell_type": "code",
   "execution_count": 19,
   "metadata": {},
   "outputs": [],
   "source": [
    "pickle.dump(w2v_model, open('word2vec_model.sav', 'wb'))"
   ]
  },
  {
   "cell_type": "code",
   "execution_count": 20,
   "metadata": {},
   "outputs": [
    {
     "data": {
      "text/plain": [
       "\"loaded_model = pickle.load(open(filename, 'rb'))\\nresult = loaded_model.score(X_test, Y_test)\\nprint(result)\""
      ]
     },
     "execution_count": 20,
     "metadata": {},
     "output_type": "execute_result"
    }
   ],
   "source": [
    "\"\"\"loaded_model = pickle.load(open(filename, 'rb'))\n",
    "result = loaded_model.score(X_test, Y_test)\n",
    "print(result)\"\"\""
   ]
  },
  {
   "cell_type": "code",
   "execution_count": 21,
   "metadata": {},
   "outputs": [
    {
     "data": {
      "text/plain": [
       "21842"
      ]
     },
     "execution_count": 21,
     "metadata": {},
     "output_type": "execute_result"
    }
   ],
   "source": [
    "len(w2v_words)"
   ]
  },
  {
   "cell_type": "code",
   "execution_count": 22,
   "metadata": {},
   "outputs": [],
   "source": [
    "reduced_sent_list = []\n",
    "for sent in reduced_data['CleanedText']:\n",
    "  reduced_sent_list.append(sent.split())"
   ]
  },
  {
   "cell_type": "code",
   "execution_count": 23,
   "metadata": {},
   "outputs": [
    {
     "name": "stdout",
     "output_type": "stream",
     "text": [
      "3000\n",
      "50\n"
     ]
    }
   ],
   "source": [
    "# average Word2Vec\n",
    "# compute average word2vec for each review.\n",
    "sent_vectors = []; # the avg-w2v for each sentence/review is stored in this list\n",
    "for sent in reduced_sent_list: # for each review/sentence\n",
    "    sent_vec = np.zeros(50) # as word vectors are of zero length\n",
    "    cnt_words =0; # num of words with a valid vector in the sentence/review\n",
    "    for word in sent: # for each word in a review/sentence\n",
    "        if word in w2v_words:\n",
    "            vec = w2v_model.wv[word]\n",
    "            sent_vec += vec\n",
    "            cnt_words += 1\n",
    "    if cnt_words != 0:\n",
    "        sent_vec /= cnt_words\n",
    "    sent_vectors.append(sent_vec)\n",
    "print(len(sent_vectors))\n",
    "print(len(sent_vectors[0]))"
   ]
  },
  {
   "cell_type": "code",
   "execution_count": 28,
   "metadata": {},
   "outputs": [],
   "source": [
    "X = sent_vectors"
   ]
  },
  {
   "cell_type": "code",
   "execution_count": 29,
   "metadata": {},
   "outputs": [],
   "source": [
    "y = reduced_data['Score'].values"
   ]
  },
  {
   "cell_type": "code",
   "execution_count": 30,
   "metadata": {},
   "outputs": [],
   "source": [
    "y = list(map(posi_negi_encoding,y))"
   ]
  },
  {
   "cell_type": "code",
   "execution_count": 32,
   "metadata": {},
   "outputs": [],
   "source": [
    "X_train, X_test, y_train, y_test = train_test_split(X, y, test_size=0.3, random_state=0)"
   ]
  },
  {
   "cell_type": "code",
   "execution_count": null,
   "metadata": {},
   "outputs": [],
   "source": []
  },
  {
   "cell_type": "code",
   "execution_count": 36,
   "metadata": {},
   "outputs": [
    {
     "name": "stdout",
     "output_type": "stream",
     "text": [
      "K:  1\n",
      "Score:  0.7195324588938956\n",
      "K:  3\n",
      "Score:  0.7471472088234373\n",
      "K:  5\n",
      "Score:  0.7704626819094267\n",
      "K:  7\n",
      "Score:  0.7776147175348972\n",
      "K:  9\n",
      "Score:  0.7842723352975287\n",
      "K:  11\n",
      "Score:  0.7804900229893994\n",
      "K:  13\n",
      "Score:  0.7838257211317825\n",
      "K:  15\n",
      "Score:  0.7928620560448947\n",
      "K:  17\n",
      "Score:  0.7914425119239288\n",
      "K:  19\n",
      "Score:  0.7909685566782099\n",
      "K:  21\n",
      "Score:  0.7938189074582189\n",
      "K:  23\n",
      "Score:  0.7919028614189502\n",
      "K:  25\n",
      "Score:  0.7885649496425251\n",
      "K:  27\n",
      "Score:  0.7885672280658562\n",
      "K:  29\n",
      "Score:  0.7866510524480094\n",
      "K:  31\n",
      "Score:  0.7861884677225162\n",
      "K:  33\n",
      "Score:  0.7909481372539492\n",
      "K:  35\n",
      "Score:  0.7899934994746668\n",
      "K:  37\n",
      "Score:  0.790483274105125\n",
      "K:  39\n",
      "Score:  0.7861748619718187\n",
      "K:  41\n",
      "Score:  0.7880955296470388\n",
      "K:  43\n",
      "Score:  0.7837870743208734\n",
      "K:  45\n",
      "Score:  0.7832972780939855\n",
      "K:  47\n",
      "Score:  0.7880638044918414\n",
      "K:  49\n",
      "Score:  0.7904469921032655\n"
     ]
    }
   ],
   "source": [
    "neighbours = list(range(1,50,2))\n",
    "cv_scores = []\n",
    "# perform 10-fold cross validation\n",
    "for k in neighbours:\n",
    "    knn= KNeighborsClassifier(n_neighbors=k)\n",
    "    scores = cross_val_score(knn, X_train, y_train, scoring='accuracy', cv=10)\n",
    "    cv_scores.append(scores.mean())\n",
    "    print(\"K: \",k)\n",
    "    print(\"Score: \",scores.mean())"
   ]
  },
  {
   "cell_type": "code",
   "execution_count": 40,
   "metadata": {},
   "outputs": [
    {
     "name": "stdout",
     "output_type": "stream",
     "text": [
      "CV_SCORES:  [0.7195324588938956, 0.7471472088234373, 0.7704626819094267, 0.7776147175348972, 0.7842723352975287, 0.7804900229893994, 0.7838257211317825, 0.7928620560448947, 0.7914425119239288, 0.7909685566782099, 0.7938189074582189, 0.7919028614189502, 0.7885649496425251, 0.7885672280658562, 0.7866510524480094, 0.7861884677225162, 0.7909481372539492, 0.7899934994746668, 0.790483274105125, 0.7861748619718187, 0.7880955296470388, 0.7837870743208734, 0.7832972780939855, 0.7880638044918414, 0.7904469921032655]\n",
      "Optimal k:  21\n"
     ]
    },
    {
     "data": {
      "image/png": "[encoded data removed]",
      "text/plain": [
       "<Figure size 432x288 with 1 Axes>"
      ]
     },
     "metadata": {
      "needs_background": "light"
     },
     "output_type": "display_data"
    }
   ],
   "source": [
    "optimal_k = neighbours[cv_scores.index(max(cv_scores))]\n",
    "plt.plot(neighbours, cv_scores)\n",
    "for xy in zip(neighbours,np.round(cv_scores,3)):\n",
    "    plt.annotate(\"('%s',%s)\"% xy, xy=xy, textcoords='data')\n",
    "plt.xlabel('Number of Neighbors K')\n",
    "plt.ylabel('CV_Scores')\n",
    "print(\"CV_SCORES: \",cv_scores)\n",
    "print(\"Optimal k: \", optimal_k)"
   ]
  },
  {
   "cell_type": "code",
   "execution_count": 41,
   "metadata": {},
   "outputs": [
    {
     "name": "stdout",
     "output_type": "stream",
     "text": [
      "\n",
      "The accuracy of the knn classifier for k = 21 is 79.555556%\n"
     ]
    }
   ],
   "source": [
    "# ============================== KNN with k = optimal_k ===============================================\n",
    "# instantiate learning model k = optimal_k\n",
    "# Brute Force\n",
    "knn_optimal = KNeighborsClassifier(n_neighbors=optimal_k, algorithm='brute')\n",
    "\n",
    "# fitting the model\n",
    "knn_optimal.fit(X_train, y_train)\n",
    "\n",
    "# predict the response\n",
    "pred = knn_optimal.predict(X_test)\n",
    "\n",
    "# evaluate accuracy\n",
    "acc = accuracy_score(y_test, pred) * 100\n",
    "print('\\nThe accuracy of the knn classifier for k = %d is %f%%' % (optimal_k, acc))"
   ]
  },
  {
   "cell_type": "code",
   "execution_count": 42,
   "metadata": {},
   "outputs": [
    {
     "name": "stdout",
     "output_type": "stream",
     "text": [
      "\n",
      "The accuracy of the knn classifier for k = 21 is 79.555556%\n"
     ]
    }
   ],
   "source": [
    "# ============================== KNN with k = optimal_k ===============================================\n",
    "# instantiate learning model k = optimal_k\n",
    "# KD_TREE\n",
    "knn_optimal = KNeighborsClassifier(n_neighbors=optimal_k, algorithm='kd_tree')\n",
    "\n",
    "# fitting the model\n",
    "knn_optimal.fit(X_train, y_train)\n",
    "\n",
    "# predict the response\n",
    "pred = knn_optimal.predict(X_test)\n",
    "\n",
    "# evaluate accuracy\n",
    "acc = accuracy_score(y_test, pred) * 100\n",
    "print('\\nThe accuracy of the knn classifier for k = %d is %f%%' % (optimal_k, acc))"
   ]
  },
  {
   "cell_type": "code",
   "execution_count": null,
   "metadata": {},
   "outputs": [],
   "source": []
  },
  {
   "cell_type": "markdown",
   "metadata": {},
   "source": [
    "# tf_idf Word2Vev"
   ]
  },
  {
   "cell_type": "code",
   "execution_count": 46,
   "metadata": {},
   "outputs": [],
   "source": [
    "# TF-IDF weighted Word2Vec\n",
    "tfidf_feat = tf_idf_vect.get_feature_names() \n",
    "# final_tf_idf is the sparse matrix with row= sentence, col=word and cell_val = tfidf\n",
    "\n",
    "tfidf_sent_vectors = []; # the tfidf-w2v for each sentence/review is stored in this list\n",
    "row=0;\n",
    "for sent in reduced_sent_list: # for each review/sentence \n",
    "    sent_vec = np.zeros(50) # as word vectors are of zero length\n",
    "    weight_sum =0; # num of words with a valid vector in the sentence/review\n",
    "    for word in sent: # for each word in a review/sentence\n",
    "        if word in w2v_words:\n",
    "            vec = w2v_model.wv[word]\n",
    "            # obtain the tf_idfidf of a word in a sentence/review\n",
    "            \n",
    "            tf_idf = final_tf_idf[row, tfidf_feat.index(word)]\n",
    "            sent_vec += (vec * tf_idf)\n",
    "            weight_sum += tf_idf\n",
    "    if weight_sum != 0:\n",
    "        sent_vec /= weight_sum\n",
    "    tfidf_sent_vectors.append(sent_vec)\n",
    "    row += 1"
   ]
  },
  {
   "cell_type": "code",
   "execution_count": 47,
   "metadata": {},
   "outputs": [],
   "source": [
    "X = tfidf_sent_vectors\n",
    "y = reduced_data['Score'].values"
   ]
  },
  {
   "cell_type": "code",
   "execution_count": 53,
   "metadata": {},
   "outputs": [],
   "source": [
    "y = list(map(posi_negi_encoding,y))"
   ]
  },
  {
   "cell_type": "code",
   "execution_count": 55,
   "metadata": {},
   "outputs": [],
   "source": [
    "X_train, X_test, y_train, y_test = train_test_split(X, y, test_size=0.3, random_state=0)"
   ]
  },
  {
   "cell_type": "code",
   "execution_count": 56,
   "metadata": {},
   "outputs": [
    {
     "name": "stdout",
     "output_type": "stream",
     "text": [
      "K:  1\n",
      "Score:  0.6728587409929391\n",
      "K:  3\n",
      "Score:  0.7076210560870078\n",
      "K:  5\n",
      "Score:  0.7218772156587073\n",
      "K:  7\n",
      "Score:  0.7228364966703704\n",
      "K:  9\n",
      "Score:  0.7218953998524963\n",
      "K:  11\n",
      "Score:  0.7209339699960803\n",
      "K:  13\n",
      "Score:  0.7371427599589236\n",
      "K:  15\n",
      "Score:  0.734734574480147\n",
      "K:  17\n",
      "Score:  0.7418774964122932\n",
      "K:  19\n",
      "Score:  0.7404466033675312\n",
      "K:  21\n",
      "Score:  0.7433197167844212\n",
      "K:  23\n",
      "Score:  0.7466462364441909\n",
      "K:  25\n",
      "Score:  0.7528254285001603\n",
      "K:  27\n",
      "Score:  0.7552200298246693\n",
      "K:  29\n",
      "Score:  0.7494851951075449\n",
      "K:  31\n",
      "Score:  0.749975034527292\n",
      "K:  33\n",
      "Score:  0.7499614287765947\n",
      "K:  35\n",
      "Score:  0.7547097709806615\n",
      "K:  37\n",
      "Score:  0.7523287970032795\n",
      "K:  39\n",
      "Score:  0.7580408906799528\n",
      "K:  41\n",
      "Score:  0.762342445946836\n",
      "K:  43\n",
      "Score:  0.7575941253391989\n",
      "K:  45\n",
      "Score:  0.7566371659437262\n",
      "K:  47\n",
      "Score:  0.7604377272349334\n",
      "K:  49\n",
      "Score:  0.75424942148564\n"
     ]
    }
   ],
   "source": [
    "neighbours = list(range(1,50,2))\n",
    "cv_scores = []\n",
    "# perform 10-fold cross validation\n",
    "for k in neighbours:\n",
    "    knn= KNeighborsClassifier(n_neighbors=k)\n",
    "    scores = cross_val_score(knn, X_train, y_train, scoring='accuracy', cv=10)\n",
    "    cv_scores.append(scores.mean())\n",
    "    print(\"K: \",k)\n",
    "    print(\"Score: \",scores.mean())"
   ]
  },
  {
   "cell_type": "code",
   "execution_count": 58,
   "metadata": {},
   "outputs": [
    {
     "name": "stdout",
     "output_type": "stream",
     "text": [
      "CV_SCORES:  [0.6728587409929391, 0.7076210560870078, 0.7218772156587073, 0.7228364966703704, 0.7218953998524963, 0.7209339699960803, 0.7371427599589236, 0.734734574480147, 0.7418774964122932, 0.7404466033675312, 0.7433197167844212, 0.7466462364441909, 0.7528254285001603, 0.7552200298246693, 0.7494851951075449, 0.749975034527292, 0.7499614287765947, 0.7547097709806615, 0.7523287970032795, 0.7580408906799528, 0.762342445946836, 0.7575941253391989, 0.7566371659437262, 0.7604377272349334, 0.75424942148564]\n",
      "Optimal k:  41\n"
     ]
    },
    {
     "data": {
      "image/png": "[encoded data removed]",
      "text/plain": [
       "<Figure size 432x288 with 1 Axes>"
      ]
     },
     "metadata": {
      "needs_background": "light"
     },
     "output_type": "display_data"
    }
   ],
   "source": [
    "optimal_k = neighbours[cv_scores.index(max(cv_scores))]\n",
    "plt.plot(neighbours, cv_scores)\n",
    "for xy in zip(neighbours,np.round(cv_scores,2)):\n",
    "    plt.annotate(\"('%s',%s)\"% xy, xy=xy, textcoords='data')\n",
    "plt.xlabel('Number of Neighbors K')\n",
    "plt.ylabel('CV_Scores')\n",
    "print(\"CV_SCORES: \",cv_scores)\n",
    "print(\"Optimal k: \", optimal_k)"
   ]
  },
  {
   "cell_type": "code",
   "execution_count": 59,
   "metadata": {},
   "outputs": [
    {
     "name": "stdout",
     "output_type": "stream",
     "text": [
      "\n",
      "The accuracy of the knn classifier for k = 41 is 76.666667%\n"
     ]
    }
   ],
   "source": [
    "# ============================== KNN with k = optimal_k ===============================================\n",
    "# instantiate learning model k = optimal_k\n",
    "# Brute Force\n",
    "knn_optimal = KNeighborsClassifier(n_neighbors=optimal_k, algorithm='brute')\n",
    "\n",
    "# fitting the model\n",
    "knn_optimal.fit(X_train, y_train)\n",
    "\n",
    "# predict the response\n",
    "pred = knn_optimal.predict(X_test)\n",
    "\n",
    "# evaluate accuracy\n",
    "acc = accuracy_score(y_test, pred) * 100\n",
    "print('\\nThe accuracy of the knn classifier for k = %d is %f%%' % (optimal_k, acc))"
   ]
  },
  {
   "cell_type": "code",
   "execution_count": 60,
   "metadata": {},
   "outputs": [
    {
     "name": "stdout",
     "output_type": "stream",
     "text": [
      "\n",
      "The accuracy of the knn classifier for k = 41 is 76.666667%\n"
     ]
    }
   ],
   "source": [
    "# ============================== KNN with k = optimal_k ===============================================\n",
    "# instantiate learning model k = optimal_k\n",
    "# kd_tree\n",
    "knn_optimal = KNeighborsClassifier(n_neighbors=optimal_k, algorithm='kd_tree')\n",
    "\n",
    "# fitting the model\n",
    "knn_optimal.fit(X_train, y_train)\n",
    "\n",
    "# predict the response\n",
    "pred = knn_optimal.predict(X_test)\n",
    "\n",
    "# evaluate accuracy\n",
    "acc = accuracy_score(y_test, pred) * 100\n",
    "print('\\nThe accuracy of the knn classifier for k = %d is %f%%' % (optimal_k, acc))"
   ]
  },
  {
   "cell_type": "code",
   "execution_count": null,
   "metadata": {},
   "outputs": [],
   "source": []
  },
  {
   "cell_type": "code",
   "execution_count": null,
   "metadata": {},
   "outputs": [],
   "source": []
  }
 ],
 "metadata": {
  "kernelspec": {
   "display_name": "Python 3",
   "language": "python",
   "name": "python3"
  },
  "language_info": {
   "codemirror_mode": {
    "name": "ipython",
    "version": 3
   },
   "file_extension": ".py",
   "mimetype": "text/x-python",
   "name": "python",
   "nbconvert_exporter": "python",
   "pygments_lexer": "ipython3",
   "version": "3.7.0"
  }
 },
 "nbformat": 4,
 "nbformat_minor": 2
}
